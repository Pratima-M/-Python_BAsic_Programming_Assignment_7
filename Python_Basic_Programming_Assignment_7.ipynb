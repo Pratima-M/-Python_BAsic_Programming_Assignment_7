{
 "cells": [
  {
   "cell_type": "markdown",
   "id": "0c2a7819",
   "metadata": {},
   "source": [
    "1.\tWrite a Python Program to find sum of array?"
   ]
  },
  {
   "cell_type": "code",
   "execution_count": 2,
   "id": "3eb5c670",
   "metadata": {},
   "outputs": [
    {
     "name": "stdout",
     "output_type": "stream",
     "text": [
      "Sum of the array is  1000\n"
     ]
    }
   ],
   "source": [
    "arr = []\n",
    "\n",
    "arr = [100, 200, 300, 400]\n",
    "  \n",
    "ans = sum(arr)\n",
    "  \n",
    "print ('Sum of the array is ',ans)"
   ]
  },
  {
   "cell_type": "markdown",
   "id": "895bec65",
   "metadata": {},
   "source": [
    "2.\tWrite a Python Program to find largest element in an array?"
   ]
  },
  {
   "cell_type": "code",
   "execution_count": 6,
   "id": "aba728e8",
   "metadata": {},
   "outputs": [
    {
     "name": "stdout",
     "output_type": "stream",
     "text": [
      "600\n"
     ]
    }
   ],
   "source": [
    "def largest(arr) :\n",
    "    max = arr[0]\n",
    "    for i in range (len(arr)) :\n",
    "        if arr[i] > max :\n",
    "            max = arr[i]\n",
    "    return max\n",
    "    \n",
    "arr = [100,200,300,400,500,600]\n",
    "max = largest(arr)\n",
    "print(max)"
   ]
  },
  {
   "cell_type": "markdown",
   "id": "e99ff5c3",
   "metadata": {},
   "source": [
    "3.\tWrite a Python Program for array rotation?"
   ]
  },
  {
   "cell_type": "code",
   "execution_count": 2,
   "id": "aa1aebf5",
   "metadata": {},
   "outputs": [
    {
     "name": "stdout",
     "output_type": "stream",
     "text": [
      "Array after left rotation is:  [4, 5, 6, 7, 1, 2, 3]\n"
     ]
    }
   ],
   "source": [
    "def rotateArray(a,d):\n",
    "    temp = []\n",
    "    n=len(a)\n",
    "    for i in range(d,n):\n",
    "        temp.append(a[i])\n",
    "    i = 0\n",
    "    for i in range (0,d):\n",
    "        temp.append(a[i])\n",
    "    a=temp.copy()\n",
    "    return a\n",
    " \n",
    "arr = [1, 2, 3, 4, 5, 6, 7]\n",
    "print(\"Array after left rotation is: \", end=' ')\n",
    "print(rotateArray(arr, 3))"
   ]
  },
  {
   "cell_type": "markdown",
   "id": "5b244a3e",
   "metadata": {},
   "source": [
    "4.\tWrite a Python Program to Split the array and add the first part to the end?"
   ]
  },
  {
   "cell_type": "code",
   "execution_count": 6,
   "id": "401351fc",
   "metadata": {},
   "outputs": [
    {
     "name": "stdout",
     "output_type": "stream",
     "text": [
      "Array after split is:  [4, 5, 6, 7, 1, 2, 3]\n"
     ]
    }
   ],
   "source": [
    "def split_Array(a,d):\n",
    "    temp = []\n",
    "    n=len(a)\n",
    "    for i in range(d,n):\n",
    "        temp.append(a[i])\n",
    "        \n",
    "    for i in range (0,d):\n",
    "        temp.append(a[i])\n",
    "    a=temp.copy()\n",
    "    return a\n",
    " \n",
    "arr = [1, 2, 3, 4, 5, 6, 7]\n",
    "print(\"Array after split is: \", end=' ')\n",
    "print(split_Array(arr, 3))"
   ]
  },
  {
   "cell_type": "markdown",
   "id": "f7d7f04c",
   "metadata": {},
   "source": [
    "5.\tWrite a Python Program to check if given array is Monotonic?"
   ]
  },
  {
   "cell_type": "code",
   "execution_count": 12,
   "id": "c1a4c4b0",
   "metadata": {},
   "outputs": [
    {
     "name": "stdout",
     "output_type": "stream",
     "text": [
      "True\n",
      "False\n",
      "True\n"
     ]
    }
   ],
   "source": [
    "def ismonotone(a):\n",
    "    n=len(a) \n",
    "    if n==1:\n",
    "        return True\n",
    "    else:\n",
    "        \n",
    "        if all(a[i]>=a[i+1] for i in range(0,n-1)):\n",
    "            return True\n",
    "        if all(a[i]<=a[i+1] for i in range(0,n-1)):\n",
    "            return True\n",
    "        else:\n",
    "            return False\n",
    "\n",
    "A = [6, 5, 4, 2]\n",
    "print(ismonotone(A))\n",
    "\n",
    "B = [6,2,7,1]\n",
    "print(ismonotone(B))\n",
    "\n",
    "C = [1, 2, 3]\n",
    "print(ismonotone(C))"
   ]
  },
  {
   "cell_type": "code",
   "execution_count": null,
   "id": "d9b97544",
   "metadata": {},
   "outputs": [],
   "source": []
  }
 ],
 "metadata": {
  "kernelspec": {
   "display_name": "Python 3",
   "language": "python",
   "name": "python3"
  },
  "language_info": {
   "codemirror_mode": {
    "name": "ipython",
    "version": 3
   },
   "file_extension": ".py",
   "mimetype": "text/x-python",
   "name": "python",
   "nbconvert_exporter": "python",
   "pygments_lexer": "ipython3",
   "version": "3.8.8"
  }
 },
 "nbformat": 4,
 "nbformat_minor": 5
}
